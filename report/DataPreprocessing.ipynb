{
 "cells": [
  {
   "cell_type": "markdown",
   "metadata": {
    "id": "JN1yC21-4NZn"
   },
   "source": [
    "# 1. Preparation:\n"
   ]
  },
  {
   "cell_type": "markdown",
   "metadata": {
    "id": "ZEF1DFXb4OnQ"
   },
   "source": [
    "### (a) import libraries"
   ]
  },
  {
   "cell_type": "code",
   "execution_count": 1,
   "metadata": {
    "executionInfo": {
     "elapsed": 2182,
     "status": "ok",
     "timestamp": 1680824179226,
     "user": {
      "displayName": "Phuong Anh Dang",
      "userId": "09152518226085034046"
     },
     "user_tz": -600
    },
    "id": "u7JQSDzDrj6w"
   },
   "outputs": [],
   "source": [
    "# from google.colab import files\n",
    "# from google.colab import drive\n",
    "from mpl_toolkits.mplot3d import Axes3D\n",
    "from sklearn.preprocessing import StandardScaler\n",
    "import matplotlib.pyplot as plt # plotting\n",
    "import numpy as np # linear algebra\n",
    "import os\n",
    "import pandas as pd\n",
    "import seaborn as sns\n",
    "import sys, requests, shutil, os"
   ]
  },
  {
   "cell_type": "markdown",
   "metadata": {
    "id": "VjC_mGnf46sO"
   },
   "source": [
    "### (b) Mount notebook to Google Drive"
   ]
  },
  {
   "cell_type": "markdown",
   "metadata": {
    "id": "dAs-mTZD5Fuv"
   },
   "source": [
    "### (c) Import dataset"
   ]
  },
  {
   "cell_type": "code",
   "execution_count": 3,
   "metadata": {
    "executionInfo": {
     "elapsed": 15980,
     "status": "ok",
     "timestamp": 1680824227503,
     "user": {
      "displayName": "Phuong Anh Dang",
      "userId": "09152518226085034046"
     },
     "user_tz": -600
    },
    "id": "RbLTHfCc4pLy"
   },
   "outputs": [],
   "source": [
    "path = \"./train.csv\" #directory for data\n",
    "df = pd.read_csv(path)"
   ]
  },
  {
   "cell_type": "code",
   "execution_count": 4,
   "metadata": {
    "colab": {
     "base_uri": "https://localhost:8080/",
     "height": 206
    },
    "executionInfo": {
     "elapsed": 9,
     "status": "ok",
     "timestamp": 1680824227503,
     "user": {
      "displayName": "Phuong Anh Dang",
      "userId": "09152518226085034046"
     },
     "user_tz": -600
    },
    "id": "4szxGOEpr4gg",
    "outputId": "f3d326d6-7202-4d1d-b4b6-bb22106b2911"
   },
   "outputs": [
    {
     "data": {
      "text/html": [
       "<div>\n",
       "<style scoped>\n",
       "    .dataframe tbody tr th:only-of-type {\n",
       "        vertical-align: middle;\n",
       "    }\n",
       "\n",
       "    .dataframe tbody tr th {\n",
       "        vertical-align: top;\n",
       "    }\n",
       "\n",
       "    .dataframe thead th {\n",
       "        text-align: right;\n",
       "    }\n",
       "</style>\n",
       "<table border=\"1\" class=\"dataframe\">\n",
       "  <thead>\n",
       "    <tr style=\"text-align: right;\">\n",
       "      <th></th>\n",
       "      <th>id</th>\n",
       "      <th>url</th>\n",
       "      <th>landmark_id</th>\n",
       "    </tr>\n",
       "  </thead>\n",
       "  <tbody>\n",
       "    <tr>\n",
       "      <th>0</th>\n",
       "      <td>6e158a47eb2ca3f6</td>\n",
       "      <td>https://upload.wikimedia.org/wikipedia/commons...</td>\n",
       "      <td>142820</td>\n",
       "    </tr>\n",
       "    <tr>\n",
       "      <th>1</th>\n",
       "      <td>202cd79556f30760</td>\n",
       "      <td>http://upload.wikimedia.org/wikipedia/commons/...</td>\n",
       "      <td>104169</td>\n",
       "    </tr>\n",
       "    <tr>\n",
       "      <th>2</th>\n",
       "      <td>3ad87684c99c06e1</td>\n",
       "      <td>http://upload.wikimedia.org/wikipedia/commons/...</td>\n",
       "      <td>37914</td>\n",
       "    </tr>\n",
       "    <tr>\n",
       "      <th>3</th>\n",
       "      <td>e7f70e9c61e66af3</td>\n",
       "      <td>https://upload.wikimedia.org/wikipedia/commons...</td>\n",
       "      <td>102140</td>\n",
       "    </tr>\n",
       "    <tr>\n",
       "      <th>4</th>\n",
       "      <td>4072182eddd0100e</td>\n",
       "      <td>https://upload.wikimedia.org/wikipedia/commons...</td>\n",
       "      <td>2474</td>\n",
       "    </tr>\n",
       "  </tbody>\n",
       "</table>\n",
       "</div>"
      ],
      "text/plain": [
       "                 id                                                url  \\\n",
       "0  6e158a47eb2ca3f6  https://upload.wikimedia.org/wikipedia/commons...   \n",
       "1  202cd79556f30760  http://upload.wikimedia.org/wikipedia/commons/...   \n",
       "2  3ad87684c99c06e1  http://upload.wikimedia.org/wikipedia/commons/...   \n",
       "3  e7f70e9c61e66af3  https://upload.wikimedia.org/wikipedia/commons...   \n",
       "4  4072182eddd0100e  https://upload.wikimedia.org/wikipedia/commons...   \n",
       "\n",
       "   landmark_id  \n",
       "0       142820  \n",
       "1       104169  \n",
       "2        37914  \n",
       "3       102140  \n",
       "4         2474  "
      ]
     },
     "execution_count": 4,
     "metadata": {},
     "output_type": "execute_result"
    }
   ],
   "source": [
    "df.head()"
   ]
  },
  {
   "cell_type": "code",
   "execution_count": 5,
   "metadata": {
    "colab": {
     "base_uri": "https://localhost:8080/"
    },
    "executionInfo": {
     "elapsed": 7,
     "status": "ok",
     "timestamp": 1680824227503,
     "user": {
      "displayName": "Phuong Anh Dang",
      "userId": "09152518226085034046"
     },
     "user_tz": -600
    },
    "id": "4RbNfRaks32v",
    "outputId": "6f60d4fc-4c2c-4e6a-fad0-f3d9f7e27716"
   },
   "outputs": [
    {
     "data": {
      "text/plain": [
       "(4132914, 3)"
      ]
     },
     "execution_count": 5,
     "metadata": {},
     "output_type": "execute_result"
    }
   ],
   "source": [
    "df.shape"
   ]
  },
  {
   "cell_type": "code",
   "execution_count": 6,
   "metadata": {
    "executionInfo": {
     "elapsed": 627,
     "status": "ok",
     "timestamp": 1680824228125,
     "user": {
      "displayName": "Phuong Anh Dang",
      "userId": "09152518226085034046"
     },
     "user_tz": -600
    },
    "id": "-pSmF5QrvT1h"
   },
   "outputs": [],
   "source": [
    "data = df.copy()"
   ]
  },
  {
   "cell_type": "markdown",
   "metadata": {
    "id": "n90O8ayH6YRx"
   },
   "source": [
    "# 2. EDA:\n"
   ]
  },
  {
   "cell_type": "markdown",
   "metadata": {
    "id": "T41FuMt66_Is"
   },
   "source": [
    "### (a) Sampling and data distribution"
   ]
  },
  {
   "cell_type": "code",
   "execution_count": 7,
   "metadata": {
    "executionInfo": {
     "elapsed": 2,
     "status": "ok",
     "timestamp": 1680824228126,
     "user": {
      "displayName": "Phuong Anh Dang",
      "userId": "09152518226085034046"
     },
     "user_tz": -600
    },
    "id": "b4K0dCns6amA"
   },
   "outputs": [],
   "source": [
    "#Ref: https://towardsdatascience.com/google-landmark-recognition-using-transfer-learning-dde35cc760e1\n",
    "#Sample only landmark_id from 1000-2000 to save time\n",
    "landmark_list = [x for x in list(range(1000,2000))]\n",
    "data_sample = df[df['landmark_id'].isin(landmark_list)]"
   ]
  },
  {
   "cell_type": "code",
   "execution_count": 8,
   "metadata": {
    "colab": {
     "base_uri": "https://localhost:8080/",
     "height": 362
    },
    "executionInfo": {
     "elapsed": 986,
     "status": "ok",
     "timestamp": 1680824229110,
     "user": {
      "displayName": "Phuong Anh Dang",
      "userId": "09152518226085034046"
     },
     "user_tz": -600
    },
    "id": "4LrdJPEM6a0p",
    "outputId": "01234bb1-f08b-4542-8c55-2174dcac6a89"
   },
   "outputs": [
    {
     "data": {
      "image/png": "[encoded data removed]",
      "text/plain": [
       "<Figure size 1500x500 with 2 Axes>"
      ]
     },
     "metadata": {},
     "output_type": "display_data"
    }
   ],
   "source": [
    "import matplotlib.pyplot as plt\n",
    "%matplotlib inline\n",
    "from matplotlib.pyplot import subplots\n",
    "\n",
    "colors = np.array(['#4285f4','#34a853','#fbbc05','#ea4335'])\n",
    "#Define the order in which to display the graph\n",
    "order = ['1-5','5-10','10-50','50-100','100-200','200-500','>=500']\n",
    "f, (ax1, ax2) = plt.subplots(1, 2,figsize=(15,5))\n",
    "\n",
    "\n",
    "def plot_distribution(data_f, data_k, axis):\n",
    "    # data['landmark_id'].value_counts()\n",
    "    x=data_f.landmark_id.value_counts().index\n",
    "    y=pd.DataFrame(data_f.landmark_id.value_counts())\n",
    "\n",
    "    #Create a variable to group the number of image sin each class\n",
    "    y['Number of images'] = np.where(y['landmark_id']>=500,'>=500',y['landmark_id'])\n",
    "    y['Number of images'] = np.where((y['landmark_id']>=200) & (y['landmark_id']<500),'200-500',y['Number of images'])\n",
    "    y['Number of images'] = np.where((y['landmark_id']>=100) & (y['landmark_id']<200),'100-200',y['Number of images'])\n",
    "    y['Number of images'] = np.where((y['landmark_id']>=50) & (y['landmark_id']<100),'50-100',y['Number of images'])\n",
    "    y['Number of images'] = np.where((y['landmark_id']>=10) & (y['landmark_id']<50),'10-50',y['Number of images'])\n",
    "    y['Number of images'] = np.where((y['landmark_id']>=5) & (y['landmark_id']<10),'5-10',y['Number of images'])\n",
    "    y['Number of images'] = np.where((y['landmark_id']>=0) & (y['landmark_id']<5),'1-5',y['Number of images'])\n",
    "\n",
    "    y['Number of images'].value_counts().loc[order].plot(kind = 'bar',color = colors,width = 0.8, ax=axis)\n",
    "    axis.set_xlabel('Number of images')\n",
    "    axis.set_ylabel('Number of classes')\n",
    "    axis.set_title(data_k)\n",
    "    \n",
    "plot_distribution(data, 'Original', ax1)\n",
    "plot_distribution(data_sample, 'Sample', ax2)"
   ]
  },
  {
   "cell_type": "markdown",
   "metadata": {
    "id": "B0O4wSjT7e07"
   },
   "source": [
    "Sample shows similar distribution as fullset of data."
   ]
  },
  {
   "cell_type": "markdown",
   "metadata": {
    "id": "dzynRvYo7Ku7"
   },
   "source": [
    "### (b) Display one image"
   ]
  },
  {
   "cell_type": "code",
   "execution_count": 9,
   "metadata": {
    "executionInfo": {
     "elapsed": 6,
     "status": "ok",
     "timestamp": 1680824229110,
     "user": {
      "displayName": "Phuong Anh Dang",
      "userId": "09152518226085034046"
     },
     "user_tz": -600
    },
    "id": "qEI54G2_vggB"
   },
   "outputs": [],
   "source": [
    "from IPython.display import Image\n",
    "from IPython.core.display import HTML \n",
    "def display_image(url):\n",
    "    img_style = \"width: 500px; margin: 0px; float: left; border: 1px solid black;\"\n",
    "    image=f\"<img style='{img_style}' src='{url}' />\"\n",
    "    display(HTML(image))"
   ]
  },
  {
   "cell_type": "code",
   "execution_count": 10,
   "metadata": {
    "colab": {
     "base_uri": "https://localhost:8080/",
     "height": 352
    },
    "executionInfo": {
     "elapsed": 5,
     "status": "ok",
     "timestamp": 1680824229110,
     "user": {
      "displayName": "Phuong Anh Dang",
      "userId": "09152518226085034046"
     },
     "user_tz": -600
    },
    "id": "lgYvDoT2w7TF",
    "outputId": "7a374d38-5254-4323-a804-f95f755398b1"
   },
   "outputs": [
    {
     "data": {
      "text/html": [
       "<img style='width: 500px; margin: 0px; float: left; border: 1px solid black;' src='https://upload.wikimedia.org/wikipedia/commons/9/98/Rabenstein_IMG_5499.jpg' />"
      ],
      "text/plain": [
       "<IPython.core.display.HTML object>"
      ]
     },
     "metadata": {},
     "output_type": "display_data"
    }
   ],
   "source": [
    "display_image(df['url'][150])"
   ]
  },
  {
   "cell_type": "markdown",
   "metadata": {
    "id": "6ey0GKEa74gN"
   },
   "source": [
    "### (c) Further exploring and sampling"
   ]
  },
  {
   "cell_type": "code",
   "execution_count": 11,
   "metadata": {
    "colab": {
     "base_uri": "https://localhost:8080/"
    },
    "executionInfo": {
     "elapsed": 6,
     "status": "ok",
     "timestamp": 1680824229111,
     "user": {
      "displayName": "Phuong Anh Dang",
      "userId": "09152518226085034046"
     },
     "user_tz": -600
    },
    "id": "RrWjWBeuxB4w",
    "outputId": "7de61f1e-c373-4976-f8a9-760e64491da7"
   },
   "outputs": [
    {
     "data": {
      "text/plain": [
       "138982    10247\n",
       "62798      4333\n",
       "177870     3327\n",
       "176528     3243\n",
       "192931     2627\n",
       "          ...  \n",
       "141849        1\n",
       "50554         1\n",
       "18724         1\n",
       "53188         1\n",
       "59881         1\n",
       "Name: landmark_id, Length: 203094, dtype: int64"
      ]
     },
     "execution_count": 11,
     "metadata": {},
     "output_type": "execute_result"
    }
   ],
   "source": [
    "#how many images does each landmark have?\n",
    "df['landmark_id'].value_counts()"
   ]
  },
  {
   "cell_type": "code",
   "execution_count": 12,
   "metadata": {
    "colab": {
     "base_uri": "https://localhost:8080/"
    },
    "executionInfo": {
     "elapsed": 1735,
     "status": "ok",
     "timestamp": 1680824230843,
     "user": {
      "displayName": "Phuong Anh Dang",
      "userId": "09152518226085034046"
     },
     "user_tz": -600
    },
    "id": "68AADcUFxGtN",
    "outputId": "a11816ec-536a-41f8-a5f6-e1a623bcba1c"
   },
   "outputs": [
    {
     "data": {
      "text/plain": [
       "id             0\n",
       "url            0\n",
       "landmark_id    0\n",
       "dtype: int64"
      ]
     },
     "execution_count": 12,
     "metadata": {},
     "output_type": "execute_result"
    }
   ],
   "source": [
    "#how many null values are there?\n",
    "df.isnull().sum()"
   ]
  },
  {
   "cell_type": "code",
   "execution_count": 13,
   "metadata": {
    "colab": {
     "base_uri": "https://localhost:8080/"
    },
    "executionInfo": {
     "elapsed": 7,
     "status": "ok",
     "timestamp": 1680824230844,
     "user": {
      "displayName": "Phuong Anh Dang",
      "userId": "09152518226085034046"
     },
     "user_tz": -600
    },
    "id": "5grcI6pC3nqj",
    "outputId": "df736741-c7a6-4606-ea94-ec4c32b08a94"
   },
   "outputs": [
    {
     "data": {
      "text/plain": [
       "203094"
      ]
     },
     "execution_count": 13,
     "metadata": {},
     "output_type": "execute_result"
    }
   ],
   "source": [
    "#how many unqiue landmark class are there?\n",
    "len(df['landmark_id'].unique())"
   ]
  },
  {
   "cell_type": "code",
   "execution_count": 14,
   "metadata": {
    "colab": {
     "base_uri": "https://localhost:8080/"
    },
    "executionInfo": {
     "elapsed": 648,
     "status": "ok",
     "timestamp": 1680824231488,
     "user": {
      "displayName": "Phuong Anh Dang",
      "userId": "09152518226085034046"
     },
     "user_tz": -600
    },
    "id": "UnWkkBsi3p-E",
    "outputId": "610d445e-dad3-45cb-ea1b-c5d7178dc889"
   },
   "outputs": [
    {
     "name": "stdout",
     "output_type": "stream",
     "text": [
      "Number of classes under 100 occurences 196692 out of total number of categories 203094\n"
     ]
    }
   ],
   "source": [
    "print(\"Number of classes under 100 occurences\",(df['landmark_id'].value_counts() <= 100).sum(),\n",
    "      'out of total number of categories',len(df['landmark_id'].unique()))"
   ]
  },
  {
   "cell_type": "code",
   "execution_count": 15,
   "metadata": {
    "executionInfo": {
     "elapsed": 7851,
     "status": "ok",
     "timestamp": 1680824239338,
     "user": {
      "displayName": "Phuong Anh Dang",
      "userId": "09152518226085034046"
     },
     "user_tz": -600
    },
    "id": "6MzsYT4866hH"
   },
   "outputs": [],
   "source": [
    "#keeping only classes with 100 or more images, to guarantee 1% test split later.\n",
    "filtered = df.groupby('landmark_id')['url'].filter(lambda x: len(x) >= 100)\n",
    "df_filter = df[df['url'].isin(filtered)]"
   ]
  },
  {
   "cell_type": "code",
   "execution_count": 16,
   "metadata": {
    "colab": {
     "base_uri": "https://localhost:8080/",
     "height": 424
    },
    "executionInfo": {
     "elapsed": 621,
     "status": "ok",
     "timestamp": 1680824239948,
     "user": {
      "displayName": "Phuong Anh Dang",
      "userId": "09152518226085034046"
     },
     "user_tz": -600
    },
    "id": "sxBAFdh28nz3",
    "outputId": "4fe9efe5-a31a-46b9-cb09-7949bcd7f138"
   },
   "outputs": [
    {
     "data": {
      "text/html": [
       "<div>\n",
       "<style scoped>\n",
       "    .dataframe tbody tr th:only-of-type {\n",
       "        vertical-align: middle;\n",
       "    }\n",
       "\n",
       "    .dataframe tbody tr th {\n",
       "        vertical-align: top;\n",
       "    }\n",
       "\n",
       "    .dataframe thead th {\n",
       "        text-align: right;\n",
       "    }\n",
       "</style>\n",
       "<table border=\"1\" class=\"dataframe\">\n",
       "  <thead>\n",
       "    <tr style=\"text-align: right;\">\n",
       "      <th></th>\n",
       "      <th>id</th>\n",
       "      <th>url</th>\n",
       "      <th>landmark_id</th>\n",
       "    </tr>\n",
       "  </thead>\n",
       "  <tbody>\n",
       "    <tr>\n",
       "      <th>1</th>\n",
       "      <td>202cd79556f30760</td>\n",
       "      <td>http://upload.wikimedia.org/wikipedia/commons/...</td>\n",
       "      <td>104169</td>\n",
       "    </tr>\n",
       "    <tr>\n",
       "      <th>4</th>\n",
       "      <td>4072182eddd0100e</td>\n",
       "      <td>https://upload.wikimedia.org/wikipedia/commons...</td>\n",
       "      <td>2474</td>\n",
       "    </tr>\n",
       "    <tr>\n",
       "      <th>6</th>\n",
       "      <td>6f31b874d1a4d489</td>\n",
       "      <td>https://upload.wikimedia.org/wikipedia/commons...</td>\n",
       "      <td>6888</td>\n",
       "    </tr>\n",
       "    <tr>\n",
       "      <th>9</th>\n",
       "      <td>8df019949b8db328</td>\n",
       "      <td>https://upload.wikimedia.org/wikipedia/commons...</td>\n",
       "      <td>81049</td>\n",
       "    </tr>\n",
       "    <tr>\n",
       "      <th>11</th>\n",
       "      <td>ccf070a2da242d56</td>\n",
       "      <td>https://upload.wikimedia.org/wikipedia/commons...</td>\n",
       "      <td>138982</td>\n",
       "    </tr>\n",
       "    <tr>\n",
       "      <th>...</th>\n",
       "      <td>...</td>\n",
       "      <td>...</td>\n",
       "      <td>...</td>\n",
       "    </tr>\n",
       "    <tr>\n",
       "      <th>4132900</th>\n",
       "      <td>65891c970cb09373</td>\n",
       "      <td>https://upload.wikimedia.org/wikipedia/commons...</td>\n",
       "      <td>129428</td>\n",
       "    </tr>\n",
       "    <tr>\n",
       "      <th>4132902</th>\n",
       "      <td>8877b1c333e1f1ad</td>\n",
       "      <td>https://upload.wikimedia.org/wikipedia/commons...</td>\n",
       "      <td>42142</td>\n",
       "    </tr>\n",
       "    <tr>\n",
       "      <th>4132907</th>\n",
       "      <td>e619472613f58db4</td>\n",
       "      <td>https://upload.wikimedia.org/wikipedia/commons...</td>\n",
       "      <td>83144</td>\n",
       "    </tr>\n",
       "    <tr>\n",
       "      <th>4132909</th>\n",
       "      <td>fc0f007893b11ba7</td>\n",
       "      <td>https://upload.wikimedia.org/wikipedia/commons...</td>\n",
       "      <td>172138</td>\n",
       "    </tr>\n",
       "    <tr>\n",
       "      <th>4132913</th>\n",
       "      <td>8ef8dff6fc4790c2</td>\n",
       "      <td>https://upload.wikimedia.org/wikipedia/commons...</td>\n",
       "      <td>34698</td>\n",
       "    </tr>\n",
       "  </tbody>\n",
       "</table>\n",
       "<p>1265562 rows × 3 columns</p>\n",
       "</div>"
      ],
      "text/plain": [
       "                       id                                                url  \\\n",
       "1        202cd79556f30760  http://upload.wikimedia.org/wikipedia/commons/...   \n",
       "4        4072182eddd0100e  https://upload.wikimedia.org/wikipedia/commons...   \n",
       "6        6f31b874d1a4d489  https://upload.wikimedia.org/wikipedia/commons...   \n",
       "9        8df019949b8db328  https://upload.wikimedia.org/wikipedia/commons...   \n",
       "11       ccf070a2da242d56  https://upload.wikimedia.org/wikipedia/commons...   \n",
       "...                   ...                                                ...   \n",
       "4132900  65891c970cb09373  https://upload.wikimedia.org/wikipedia/commons...   \n",
       "4132902  8877b1c333e1f1ad  https://upload.wikimedia.org/wikipedia/commons...   \n",
       "4132907  e619472613f58db4  https://upload.wikimedia.org/wikipedia/commons...   \n",
       "4132909  fc0f007893b11ba7  https://upload.wikimedia.org/wikipedia/commons...   \n",
       "4132913  8ef8dff6fc4790c2  https://upload.wikimedia.org/wikipedia/commons...   \n",
       "\n",
       "         landmark_id  \n",
       "1             104169  \n",
       "4               2474  \n",
       "6               6888  \n",
       "9              81049  \n",
       "11            138982  \n",
       "...              ...  \n",
       "4132900       129428  \n",
       "4132902        42142  \n",
       "4132907        83144  \n",
       "4132909       172138  \n",
       "4132913        34698  \n",
       "\n",
       "[1265562 rows x 3 columns]"
      ]
     },
     "execution_count": 16,
     "metadata": {},
     "output_type": "execute_result"
    }
   ],
   "source": [
    "df_filter = df_filter.replace(to_replace='None', value=np.nan).dropna()\n",
    "df_filter\n",
    "#df_filter contains data without \"None\" as landmark_id AND only landmark_id with more than 100 urls"
   ]
  },
  {
   "cell_type": "markdown",
   "metadata": {
    "id": "pbHIebL49KbM"
   },
   "source": [
    "### (d) Preview mutiple images belong to same class"
   ]
  },
  {
   "cell_type": "code",
   "execution_count": 17,
   "metadata": {
    "executionInfo": {
     "elapsed": 9,
     "status": "ok",
     "timestamp": 1680824239949,
     "user": {
      "displayName": "Phuong Anh Dang",
      "userId": "09152518226085034046"
     },
     "user_tz": -600
    },
    "id": "cATub4G7-pT-"
   },
   "outputs": [],
   "source": [
    "from IPython.display import Image\n",
    "from IPython.core.display import HTML \n",
    "\n",
    "def display_category(urls):\n",
    "    img_style = \"width: 180px; margin: 0px; float: left; border: 1px solid black;\"\n",
    "    images_list = ''.join([f\"<img style='{img_style}' src='{u}' />\" for _, u in urls.head(12).iteritems()])\n",
    "    display(HTML(images_list))"
   ]
  },
  {
   "cell_type": "code",
   "execution_count": 18,
   "metadata": {
    "colab": {
     "base_uri": "https://localhost:8080/",
     "height": 549
    },
    "executionInfo": {
     "elapsed": 9,
     "status": "ok",
     "timestamp": 1680824239949,
     "user": {
      "displayName": "Phuong Anh Dang",
      "userId": "09152518226085034046"
     },
     "user_tz": -600
    },
    "id": "dZPd-HCZ-1Rc",
    "outputId": "e349b693-d756-4e8d-b749-d3857d77c72c"
   },
   "outputs": [
    {
     "data": {
      "text/html": [
       "<img style='width: 180px; margin: 0px; float: left; border: 1px solid black;' src='https://upload.wikimedia.org/wikipedia/commons/3/31/Dip_netters_%286345286556%29.jpg' /><img style='width: 180px; margin: 0px; float: left; border: 1px solid black;' src='https://upload.wikimedia.org/wikipedia/commons/b/bf/Waiting_for_the_Waterfowl_%286789933175%29.jpg' /><img style='width: 180px; margin: 0px; float: left; border: 1px solid black;' src='https://upload.wikimedia.org/wikipedia/commons/0/06/Colors_reflected_%286254295826%29.jpg' /><img style='width: 180px; margin: 0px; float: left; border: 1px solid black;' src='https://upload.wikimedia.org/wikipedia/commons/b/bf/The_final_hill_%287543672112%29.jpg' /><img style='width: 180px; margin: 0px; float: left; border: 1px solid black;' src='https://upload.wikimedia.org/wikipedia/commons/c/cf/YR_Fossils_before_the_storm_%2826431455293%29.jpg' /><img style='width: 180px; margin: 0px; float: left; border: 1px solid black;' src='https://upload.wikimedia.org/wikipedia/commons/e/e8/Looking_for_Fossils_%285556054095%29.jpg' /><img style='width: 180px; margin: 0px; float: left; border: 1px solid black;' src='https://upload.wikimedia.org/wikipedia/commons/e/e1/Lonely_shoreline_%288261705806%29_%282%29.jpg' /><img style='width: 180px; margin: 0px; float: left; border: 1px solid black;' src='https://upload.wikimedia.org/wikipedia/commons/3/39/Another_Scary_Night_%286312619562%29.jpg' /><img style='width: 180px; margin: 0px; float: left; border: 1px solid black;' src='https://upload.wikimedia.org/wikipedia/commons/a/a4/YR_Junior_Rangers_Bike_Ride_%2820332150648%29.jpg' /><img style='width: 180px; margin: 0px; float: left; border: 1px solid black;' src='https://upload.wikimedia.org/wikipedia/commons/f/f7/Prepare_to_be_scared_%288003195344%29.jpg' /><img style='width: 180px; margin: 0px; float: left; border: 1px solid black;' src='https://upload.wikimedia.org/wikipedia/commons/8/85/DSC_0046_%289571913746%29.jpg' /><img style='width: 180px; margin: 0px; float: left; border: 1px solid black;' src='https://upload.wikimedia.org/wikipedia/commons/1/1b/Campers_helping_campers_%287597983300%29.jpg' />"
      ],
      "text/plain": [
       "<IPython.core.display.HTML object>"
      ]
     },
     "metadata": {},
     "output_type": "display_data"
    }
   ],
   "source": [
    "category = df_filter['landmark_id'].value_counts().keys()[4]\n",
    "urls = df_filter[df_filter['landmark_id'] == category]['url']\n",
    "display_category(urls)"
   ]
  },
  {
   "cell_type": "markdown",
   "metadata": {
    "id": "aoKOH4_W-ABg"
   },
   "source": [
    "### (e) Final data sample"
   ]
  },
  {
   "cell_type": "code",
   "execution_count": 19,
   "metadata": {
    "executionInfo": {
     "elapsed": 416,
     "status": "ok",
     "timestamp": 1680824240357,
     "user": {
      "displayName": "Phuong Anh Dang",
      "userId": "09152518226085034046"
     },
     "user_tz": -600
    },
    "id": "-mxo4_PFBDgo"
   },
   "outputs": [],
   "source": [
    "#Select only id from 1000-2000 to save time\n",
    "landmark_list = [x for x in list(range(1000,2000))] #changed from 1000-3000 to 2000\n",
    "data_sample = df_filter[df_filter['landmark_id'].isin(landmark_list)]"
   ]
  },
  {
   "cell_type": "code",
   "execution_count": 20,
   "metadata": {
    "executionInfo": {
     "elapsed": 7,
     "status": "ok",
     "timestamp": 1680824240357,
     "user": {
      "displayName": "Phuong Anh Dang",
      "userId": "09152518226085034046"
     },
     "user_tz": -600
    },
    "id": "DJqsJBx9lrCv"
   },
   "outputs": [],
   "source": [
    "#Save final sample as csv file to avoid re-running the above code everytime.\n",
    "# data_sample.to_csv('clean_data.csv', index=False)\n",
    "# files.download('clean_data.csv')\n",
    "#Need to write read.csv function if needed"
   ]
  },
  {
   "cell_type": "markdown",
   "metadata": {
    "id": "bI6JYUAy-c6S"
   },
   "source": [
    "# 3. Downloading Images"
   ]
  },
  {
   "cell_type": "markdown",
   "metadata": {
    "id": "wnVjvyUA-fy9"
   },
   "source": [
    "### (a) Change URLs to resize images to target size"
   ]
  },
  {
   "cell_type": "markdown",
   "metadata": {
    "id": "Eg9xtMNAcbmu"
   },
   "source": [
    "### (b) Train-Test split"
   ]
  },
  {
   "cell_type": "code",
   "execution_count": 23,
   "metadata": {
    "id": "mIjRthXdBBMn"
   },
   "outputs": [
    {
     "name": "stdout",
     "output_type": "stream",
     "text": [
      "2. train and test set created\n"
     ]
    }
   ],
   "source": [
    "data_test = pd.DataFrame(columns = ['id','url','landmark_id'])\n",
    "data_training_all = pd.DataFrame(columns = ['id','url','landmark_id'])\n",
    "percent_test = 0.01 #takes 1% from each class as holdout data\n",
    "\n",
    "import random\n",
    "random.seed(42)\n",
    "for landmark_id in set(data_sample['landmark_id']):\n",
    "    n=1\n",
    "    t = data_sample[(data_sample.landmark_id == landmark_id)] #get all images for a landmark id\n",
    "    i = 0\n",
    "    r =[]\n",
    "    while i < len(t.id):\n",
    "        it = i\n",
    "        r.append(t.id.iloc[it])  #create a list of all these images\n",
    "        i += 1\n",
    "        \n",
    "    test = random.sample(r,int(percent_test*len(r))) #randomly pick a sample of 1% images from list 'r'\n",
    "    training = list(set(r) - set(test))  #get the remaining images\n",
    "    data_t = data_sample[data_sample.id.isin(test)] #holdout dataset\n",
    "    data_tr = data_sample[data_sample.id.isin(training)] #training dataset\n",
    "    data_test = pd.concat([data_test,data_t])  \n",
    "    data_training_all = pd.concat([data_training_all,data_tr])\n",
    "    n+=1\n",
    "\n",
    "print ('2. train and test set created')"
   ]
  },
  {
   "cell_type": "markdown",
   "metadata": {
    "id": "jIXwoFyEBNty"
   },
   "source": [
    "### (c) Train_Validation split"
   ]
  },
  {
   "cell_type": "code",
   "execution_count": 24,
   "metadata": {
    "id": "2_89WJ0BBW6v"
   },
   "outputs": [
    {
     "name": "stdout",
     "output_type": "stream",
     "text": [
      "3. train and validation set created\n"
     ]
    }
   ],
   "source": [
    "data_valid = pd.DataFrame(columns = ['id','url','landmark_id'])\n",
    "data_train = pd.DataFrame(columns = ['id','url','landmark_id'])\n",
    "percent_validation = 0.2 #takes 20% from each class as holdout data\n",
    "import random\n",
    "random.seed(42)\n",
    "for landmark_id in set(data_training_all['landmark_id']):\n",
    "    n=1\n",
    "    t = data_training_all[(data_training_all.landmark_id == landmark_id)]\n",
    "    i = 0\n",
    "    r =[]\n",
    "    while i < len(t.id):\n",
    "        it = i\n",
    "        r.append(t.id.iloc[it])\n",
    "        i += 1\n",
    "        \n",
    "    valid = random.sample(r,int(percent_validation*len(r)))\n",
    "    train = list(set(r) - set(valid)) \n",
    "    data_v = data_training_all[data_training_all.id.isin(valid)]\n",
    "    data_t = data_training_all[data_training_all.id.isin(train)]\n",
    "    data_valid = pd.concat([data_valid,data_v])\n",
    "    data_train = pd.concat([data_train,data_t])\n",
    "    n+=1\n",
    "\n",
    "print ('3. train and validation set created')"
   ]
  },
  {
   "cell_type": "markdown",
   "metadata": {
    "id": "4D2omEkGBomC"
   },
   "source": [
    "### (d) Check sizes after split"
   ]
  },
  {
   "cell_type": "code",
   "execution_count": 25,
   "metadata": {
    "colab": {
     "base_uri": "https://localhost:8080/"
    },
    "executionInfo": {
     "elapsed": 6,
     "status": "ok",
     "timestamp": 1680760719125,
     "user": {
      "displayName": "Phuong Anh Dang",
      "userId": "09152518226085034046"
     },
     "user_tz": -600
    },
    "id": "XFHt0jjEBty2",
    "outputId": "6577ca1d-94ef-46ce-dd1e-3ac9939ac2e8"
   },
   "outputs": [
    {
     "name": "stdout",
     "output_type": "stream",
     "text": [
      "6227\n",
      "1538\n",
      "65\n"
     ]
    }
   ],
   "source": [
    "print (len(data_train))\n",
    "#print (data_train['landmark_id'].values.max())\n",
    "print (len(data_valid))\n",
    "print (len(data_test))"
   ]
  },
  {
   "cell_type": "markdown",
   "metadata": {
    "id": "GjPPACCpBvLJ"
   },
   "source": [
    "### (e) Downloading Images to existing folders in drive"
   ]
  },
  {
   "cell_type": "markdown",
   "metadata": {
    "id": "0T2LAnsXB8z8"
   },
   "source": [
    "Create directories 'N_train_images_model', 'M_validation_images_model', 'N_test_images_from_train' inside 'Data' folder before running the code below.\n",
    "\n"
   ]
  },
  {
   "cell_type": "code",
   "execution_count": 27,
   "metadata": {
    "executionInfo": {
     "elapsed": 334,
     "status": "ok",
     "timestamp": 1680826197356,
     "user": {
      "displayName": "Phuong Anh Dang",
      "userId": "09152518226085034046"
     },
     "user_tz": -600
    },
    "id": "jx_ja2cOOreq"
   },
   "outputs": [],
   "source": [
    "#function to fetch images\n",
    "def fetch_image(path,folder):\n",
    "    url=path\n",
    "    response=requests.get(url, stream=True)\n",
    "    path = './Data/'+ folder + '/image.jpg'\n",
    "    with open(path, 'wb') as out_file:\n",
    "        shutil.copyfileobj(response.raw, out_file)\n",
    "    del response\n"
   ]
  },
  {
   "cell_type": "code",
   "execution_count": 65,
   "metadata": {},
   "outputs": [],
   "source": [
    "import urllib.request\n",
    "from PIL import Image\n",
    "  \n",
    "# Retrieving the resource located at the URL\n",
    "# and storing it in the file name a.png  \n",
    "k = 0\n",
    "def fetch_image(url,folder):\n",
    "    # Opening the image and displaying it (to confirm its presence)\n",
    "    try:\n",
    "        urllib.request.urlretrieve(url, folder)\n",
    "        img = Image.open(folder)\n",
    "        \n",
    "        #resize\n",
    "        img = img.resize((96,96))\n",
    "        img.save(folder, 'JPEG', quality=90)\n",
    "    except:\n",
    "        #remove files that cannot be opened\n",
    "        if os.path.exists(folder):\n",
    "            os.remove(folder)\n",
    "            k += 1\n",
    "        print(url)\n",
    "        print('error')\n",
    "    "
   ]
  },
  {
   "cell_type": "code",
   "execution_count": null,
   "metadata": {},
   "outputs": [],
   "source": [
    "'''TRAIN SET - fetch images for the resized URLs and save in the already created directory train_images_model'''\n",
    "dir = './Data/N_train_images_model/'\n",
    "i=0\n",
    "for link in data_train['url']: \n",
    "    if os.path.exists(dir + str(data_train['id'].iloc[i])+ '.jpg'):\n",
    "        # print('hi')\n",
    "        i += 1\n",
    "        continue\n",
    "    folder = str(data_train['id'].iloc[i])+ '.jpg'\n",
    "    fetch_image(link, dir + folder)\n",
    "    i+=1\n",
    "    # if(i==1):   #uncomment to test in machine speed\n",
    "    #     break \n",
    "print(i)\n",
    "\n",
    "print('4. train images fetched')"
   ]
  },
  {
   "cell_type": "code",
   "execution_count": 34,
   "metadata": {
    "colab": {
     "base_uri": "https://localhost:8080/"
    },
    "executionInfo": {
     "elapsed": 549,
     "status": "ok",
     "timestamp": 1680828349119,
     "user": {
      "displayName": "Phuong Anh Dang",
      "userId": "09152518226085034046"
     },
     "user_tz": -600
    },
    "id": "cIA4goGtNQCd",
    "outputId": "4c361ffa-542a-4b85-b96b-3a1338882965"
   },
   "outputs": [
    {
     "name": "stdout",
     "output_type": "stream",
     "text": [
      "Original Dimensions :  (96, 96, 3)\n"
     ]
    }
   ],
   "source": [
    "import cv2\n",
    "img = cv2.imread('./Data/N_train_images_model/6a27e8b1ac9f6ae5.jpg')\n",
    "img = cv2.cvtColor(img, cv2.COLOR_BGR2RGB)\n",
    "print('Original Dimensions : ',img.shape)"
   ]
  },
  {
   "cell_type": "code",
   "execution_count": null,
   "metadata": {},
   "outputs": [],
   "source": [
    "'''VALIDATION SET'''\n",
    "dir = './Data/M_validation_images_model/'\n",
    "i=0\n",
    "for link in data_valid['url']: \n",
    "    if os.path.exists(dir + str(data_valid['id'].iloc[i])+ '.jpg'):\n",
    "        print('hi')\n",
    "        i += 1\n",
    "        continue\n",
    "    folder = str(data_valid['id'].iloc[i])+ '.jpg'\n",
    "    fetch_image(link, dir + folder)\n",
    "    i+=1\n",
    "    # if(i==1):   #uncomment to test in machine speed\n",
    "    #     break \n",
    "print(i)\n",
    "print('5. Validation images fetched')"
   ]
  },
  {
   "cell_type": "code",
   "execution_count": null,
   "metadata": {},
   "outputs": [],
   "source": [
    "'''TEST SET''' #N_test_images_from_train\n",
    "dir = './Data/N_test_images_from_train/'\n",
    "i=0\n",
    "for link in data_test['url']: \n",
    "    if os.path.exists(dir + str(data_test['id'].iloc[i])+ '.jpg'):\n",
    "        print('hi')\n",
    "        i += 1\n",
    "        continue\n",
    "    folder = str(data_test['id'].iloc[i]) + '.jpg'\n",
    "    fetch_image(link, dir + folder)\n",
    "    i+=1\n",
    "    # if(i==1):   #uncomment to test in machine speed\n",
    "    #     break\n",
    "    \n",
    "print(i)\n",
    "print('6. Test images fetched') "
   ]
  }
 ],
 "metadata": {
  "colab": {
   "collapsed_sections": [
    "JN1yC21-4NZn",
    "ZEF1DFXb4OnQ",
    "VjC_mGnf46sO",
    "dAs-mTZD5Fuv",
    "n90O8ayH6YRx",
    "T41FuMt66_Is",
    "dzynRvYo7Ku7",
    "6ey0GKEa74gN",
    "pbHIebL49KbM",
    "aoKOH4_W-ABg",
    "wnVjvyUA-fy9",
    "Eg9xtMNAcbmu",
    "jIXwoFyEBNty",
    "4D2omEkGBomC",
    "GjPPACCpBvLJ",
    "3ZEy3oqKDEkT",
    "pP9IhYXhGd_E",
    "aJXVMf9KG4L4",
    "yz27GMsmEXF0",
    "HeVRmqqWEM65",
    "2nKHHJknESoj",
    "gfkgl7w7JZlD"
   ],
   "provenance": [
    {
     "file_id": "https://github.com/johnyjchen/Google_Landmark_Recognition/blob/main/Final_version.ipynb",
     "timestamp": 1680760290763
    }
   ]
  },
  "kernelspec": {
   "display_name": "Python 3 (ipykernel)",
   "language": "python",
   "name": "python3"
  },
  "language_info": {
   "codemirror_mode": {
    "name": "ipython",
    "version": 3
   },
   "file_extension": ".py",
   "mimetype": "text/x-python",
   "name": "python",
   "nbconvert_exporter": "python",
   "pygments_lexer": "ipython3",
   "version": "3.9.13"
  }
 },
 "nbformat": 4,
 "nbformat_minor": 4
}
